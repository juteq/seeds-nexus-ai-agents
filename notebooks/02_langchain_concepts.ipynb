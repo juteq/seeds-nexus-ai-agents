{
 "cells": [
  {
   "cell_type": "markdown",
   "metadata": {},
   "source": [
    "# LangChain Tutorial: Essential Concepts for Beginners\n",
    "\n",
    "This notebook demonstrates 5 key LangChain concepts with practical examples designed for university students.\n",
    "\n",
    "## What You'll Learn:\n",
    "1. **Models** - AI systems that understand and generate text\n",
    "2. **Prompts** - Instructions that guide AI behavior\n",
    "3. **Chains** - Connect components to create workflows\n",
    "4. **Embeddings & Vectors** - Convert text to numerical representations\n",
    "5. **Agents** - AI that can use tools and make decisions\n",
    "\n",
    "---"
   ]
  },
  {
   "cell_type": "markdown",
   "metadata": {},
   "source": [
    "## Setup: Install Required Packages\n",
    "\n",
    "Run this cell first to install all necessary packages:"
   ]
  },
  {
   "cell_type": "code",
   "execution_count": null,
   "metadata": {},
   "outputs": [],
   "source": [
    "# Install required packages\n",
    "!pip install langchain\n",
    "!pip install openai\n",
    "!pip install chromadb\n",
    "!pip install langchain-openai\n",
    "!pip install langchain-community\n",
    "!pip install tiktoken\n",
    "!pip install duckduckgo-search"
   ]
  },
  {
   "cell_type": "markdown",
   "metadata": {},
   "source": [
    "## Setup: Import Libraries and Set API Key\n",
    "\n",
    "**Important**: Get your OpenAI API key from [platform.openai.com/api-keys](https://platform.openai.com/api-keys)"
   ]
  },
  {
   "cell_type": "code",
   "execution_count": null,
   "metadata": {},
   "outputs": [],
   "source": [
    "import os\n",
    "from langchain_openai import OpenAI, ChatOpenAI, OpenAIEmbeddings\n",
    "from langchain.prompts import PromptTemplate, ChatPromptTemplate\n",
    "from langchain.chains import LLMChain, SimpleSequentialChain\n",
    "from langchain.schema import HumanMessage, AIMessage, SystemMessage\n",
    "from langchain.vectorstores import Chroma\n",
    "from langchain.agents import initialize_agent, Tool, AgentType\n",
    "from langchain.tools import DuckDuckGoSearchRun\n",
    "import warnings\n",
    "warnings.filterwarnings('ignore')\n",
    "\n",
    "# Set your OpenAI API key here\n",
    "try:\n",
    "    import google.colab\n",
    "    IN_COLAB = True\n",
    "except ImportError:\n",
    "    IN_COLAB = False\n",
    "\n",
    "# Set up OpenAI API key based on environment\n",
    "if IN_COLAB:\n",
    "    # For Google Colab: use the secure input method\n",
    "    from google.colab import userdata\n",
    "\n",
    "    try:\n",
    "        # Try to get API key from Colab secrets first\n",
    "        openai_api_key = userdata.get('OPENAI_API_KEY')\n",
    "        if openai_api_key:\n",
    "            os.environ[\"OPENAI_API_KEY\"] = openai_api_key\n",
    "            print(\"✅ API key loaded from Google Colab secrets!\")\n",
    "        else:\n",
    "            # If not in secrets, prompt user to enter it\n",
    "            from getpass import getpass\n",
    "            print(\"OpenAI API key not found in Colab secrets.\")\n",
    "            os.environ[\"OPENAI_API_KEY\"] = getpass(\"Enter your OpenAI API key: \")\n",
    "            print(\"✅ API key set from input\")\n",
    "    except Exception as e:\n",
    "        print(f\"Note: {e}\")\n",
    "        print(\"Enter your OpenAI API key below:\")\n",
    "        os.environ[\"OPENAI_API_KEY\"] = getpass(\"OpenAI API key: \")\n",
    "else:\n",
    "    # For local environment: try to load from .env file\n",
    "    try:\n",
    "        from dotenv import load_dotenv\n",
    "        load_dotenv()\n",
    "        api_key = os.getenv(\"OPENAI_API_KEY\")\n",
    "        if api_key:\n",
    "            print(\"✅ API key loaded from .env file\")\n",
    "        else:\n",
    "            print(\"⚠️ No API key found in .env file. Using fallback value.\")\n",
    "            os.environ[\"OPENAI_API_KEY\"] = \"your-api-key-here\"\n",
    "    except ImportError:\n",
    "        print(\"⚠️ python-dotenv not installed. Using fallback value.\")\n",
    "        os.environ[\"OPENAI_API_KEY\"] = \"your-api-key-here\"\n",
    "\n",
    "# Check if API key is properly set\n",
    "if os.environ.get(\"OPENAI_API_KEY\") in [None, \"\", \"your-api-key-here\"]:\n",
    "    print(\"⚠️ WARNING: Please set your OpenAI API key before running the examples!\")\n",
    "    print(\"Get your API key from: https://platform.openai.com/api-keys\")\n",
    "    if IN_COLAB:\n",
    "        print(\"For Colab: Use Secrets to securely store your API key\")\n",
    "        print(\"  1. Click on the 🔑 icon in the left sidebar\")\n",
    "        print(\"  2. Add a new secret with name 'OPENAI_API_KEY'\")\n",
    "        print(\"  3. Run this cell again\")\n",
    "    else:\n",
    "        print(\"For local use: Create a .env file with OPENAI_API_KEY=your-key-here\")\n",
    "else:\n",
    "    print(\"✅ API key is set! Ready to proceed.\\n\")\n",
    "\n",
    "print(\"LangChain Tutorial: 5 Essential Concepts\")\n",
    "print(\"=\" * 60)"
   ]
  },
  {
   "cell_type": "markdown",
   "metadata": {},
   "source": [
    "---\n",
    "# CONCEPT 1: MODELS\n",
    "\n",
    "Models are AI systems that can understand and generate text. Think of them as very smart assistants that can help with various tasks.\n",
    "\n",
    "There are different types of models:\n",
    "- **Basic models**: Good for simple text completion\n",
    "- **Chat models**: Better for conversations"
   ]
  },
  {
   "cell_type": "code",
   "execution_count": null,
   "metadata": {},
   "outputs": [],
   "source": [
    "# Initialize different types of models\n",
    "basic_llm = OpenAI(temperature=0.7, max_tokens=100)\n",
    "chat_model = ChatOpenAI(temperature=0.7, model=\"gpt-3.5-turbo\")\n",
    "\n",
    "print(\"Example 1a: Basic Text Generation\")\n",
    "question = \"What are the benefits of learning programming?\"\n",
    "response = basic_llm.invoke(question)\n",
    "print(f\"Question: {question}\")\n",
    "print(f\"Answer: {response}\\n\")"
   ]
  },
  {
   "cell_type": "code",
   "execution_count": null,
   "metadata": {},
   "outputs": [],
   "source": [
    "# Example with chat model\n",
    "print(\"Example 1b: Chat-style Conversation\")\n",
    "messages = [\n",
    "    SystemMessage(content=\"You are a helpful tutor explaining concepts simply.\"),\n",
    "    HumanMessage(content=\"Explain what machine learning is in simple terms.\")\n",
    "]\n",
    "chat_response = chat_model.invoke(messages)\n",
    "print(f\"Chat Response: {chat_response.content}\")"
   ]
  },
  {
   "cell_type": "markdown",
   "metadata": {},
   "source": [
    "### Try It Yourself:\n",
    "- Change the `temperature` parameter (0 = focused, 1 = creative)\n",
    "- Try different questions or topics\n",
    "- Experiment with different system messages"
   ]
  },
  {
   "cell_type": "markdown",
   "metadata": {},
   "source": [
    "---\n",
    "# CONCEPT 2: PROMPTS\n",
    "\n",
    "Prompts are like instructions you give to the AI model. Good prompts lead to better, more useful responses.\n",
    "\n",
    "**Prompt Templates** let you create reusable prompts with variables (like fill-in-the-blank forms)."
   ]
  },
  {
   "cell_type": "code",
   "execution_count": null,
   "metadata": {},
   "outputs": [],
   "source": [
    "print(\"Example 2a: Basic Prompt Template\")\n",
    "\n",
    "# Create a reusable prompt template\n",
    "simple_template = PromptTemplate(\n",
    "    input_variables=[\"topic\", \"audience\"],\n",
    "    template=\"Explain {topic} to {audience} in a simple and engaging way.\"\n",
    ")\n",
    "\n",
    "# Use the template with different inputs\n",
    "topic_prompt = simple_template.format(topic=\"photosynthesis\", audience=\"high school students\")\n",
    "print(f\"Generated Prompt: {topic_prompt}\")\n",
    "\n",
    "# Get AI response\n",
    "explanation = basic_llm.invoke(topic_prompt)\n",
    "print(f\"AI Response: {explanation}\")"
   ]
  },
  {
   "cell_type": "code",
   "execution_count": null,
   "metadata": {},
   "outputs": [],
   "source": [
    "print(\"Example 2b: Chat Prompt Template\")\n",
    "\n",
    "# More structured chat template\n",
    "chat_template = ChatPromptTemplate.from_messages([\n",
    "    (\"system\", \"You are a friendly study buddy helping with {subject}.\"),\n",
    "    (\"human\", \"I need help understanding {concept}. Can you give me a simple example?\")\n",
    "])\n",
    "\n",
    "# Format and use the template\n",
    "formatted_chat_prompt = chat_template.format_messages(\n",
    "    subject=\"mathematics\",\n",
    "    concept=\"derivatives\"\n",
    ")\n",
    "\n",
    "print(\"Chat Prompt Messages:\")\n",
    "for msg in formatted_chat_prompt:\n",
    "    print(f\"  {msg.type}: {msg.content}\")\n",
    "\n",
    "chat_explanation = chat_model.invoke(formatted_chat_prompt)\n",
    "print(f\"\\nAI Response: {chat_explanation.content}\")"
   ]
  },
  {
   "cell_type": "markdown",
   "metadata": {},
   "source": [
    "### Try It Yourself:\n",
    "- Create your own prompt template for generating study notes\n",
    "- Try different subjects and concepts\n",
    "- Experiment with different instruction styles"
   ]
  },
  {
   "cell_type": "markdown",
   "metadata": {},
   "source": [
    "---\n",
    "# CONCEPT 3: CHAINS\n",
    "\n",
    "Chains connect different components (models, prompts) to create workflows. Think of them as assembly lines for AI tasks.\n",
    "\n",
    "You can create:\n",
    "- **Simple chains**: One prompt + one model\n",
    "- **Sequential chains**: Multiple steps that build on each other"
   ]
  },
  {
   "cell_type": "code",
   "execution_count": null,
   "metadata": {},
   "outputs": [],
   "source": [
    "print(\"Example 3a: Basic LLM Chain\")\n",
    "\n",
    "# Create a prompt for generating study questions\n",
    "question_template = PromptTemplate(\n",
    "    input_variables=[\"subject\", \"difficulty\"],\n",
    "    template=\"Generate 3 {difficulty} level study questions about {subject}.\"\n",
    ")\n",
    "\n",
    "# Create a chain (prompt + model)\n",
    "question_chain = LLMChain(llm=basic_llm, prompt=question_template)\n",
    "\n",
    "# Use the chain\n",
    "study_questions = question_chain.run(subject=\"Python programming\", difficulty=\"beginner\")\n",
    "print(f\"Generated Study Questions:\\n{study_questions}\")"
   ]
  },
  {
   "cell_type": "code",
   "execution_count": null,
   "metadata": {},
   "outputs": [],
   "source": [
    "print(\"Example 3b: Sequential Chain (Multi-step)\")\n",
    "\n",
    "# Step 1: Generate a topic summary\n",
    "summary_template = PromptTemplate(\n",
    "    input_variables=[\"topic\"],\n",
    "    template=\"Write a brief summary of {topic} in 2-3 sentences.\"\n",
    ")\n",
    "summary_chain = LLMChain(llm=basic_llm, prompt=summary_template)\n",
    "\n",
    "# Step 2: Create quiz questions from the summary\n",
    "quiz_template = PromptTemplate(\n",
    "    input_variables=[\"summary\"],\n",
    "    template=\"Based on this summary: {summary}\\n\\nCreate 2 multiple choice questions.\"\n",
    ")\n",
    "quiz_chain = LLMChain(llm=basic_llm, prompt=quiz_template)\n",
    "\n",
    "# Combine chains into a sequence\n",
    "overall_chain = SimpleSequentialChain(\n",
    "    chains=[summary_chain, quiz_chain],\n",
    "    verbose=True  # Shows intermediate steps\n",
    ")\n",
    "\n",
    "# Run the sequential chain\n",
    "result = overall_chain.run(\"renewable energy\")\n",
    "print(f\"\\nFinal Result:\\n{result}\")"
   ]
  },
  {
   "cell_type": "markdown",
   "metadata": {},
   "source": [
    "### Try It Yourself:\n",
    "- Create a chain that summarizes text and then translates it\n",
    "- Build a study aid that generates notes, then creates flashcards\n",
    "- Try different topics with the sequential chain"
   ]
  },
  {
   "cell_type": "markdown",
   "metadata": {},
   "source": [
    "---\n",
    "# CONCEPT 4: EMBEDDINGS AND VECTORS\n",
    "\n",
    "Embeddings convert text into numbers (vectors) that represent meaning. Similar texts have similar numbers.\n",
    "\n",
    "This enables:\n",
    "- **Semantic search**: Find similar content by meaning, not just keywords\n",
    "- **Knowledge bases**: Store and retrieve information intelligently"
   ]
  },
  {
   "cell_type": "code",
   "execution_count": null,
   "metadata": {},
   "outputs": [],
   "source": [
    "print(\"Example 4a: Creating Text Embeddings\")\n",
    "\n",
    "# Initialize embeddings\n",
    "embeddings = OpenAIEmbeddings()\n",
    "\n",
    "# Sample texts\n",
    "texts = [\n",
    "    \"Python is a programming language\",\n",
    "    \"Java is also a programming language\",\n",
    "    \"Cats are cute animals\",\n",
    "    \"Dogs are loyal pets\"\n",
    "]\n",
    "\n",
    "# Create embeddings\n",
    "print(\"Creating embeddings for sample texts...\")\n",
    "text_embeddings = embeddings.embed_documents(texts)\n",
    "\n",
    "print(f\"Number of texts: {len(texts)}\")\n",
    "print(f\"Embedding dimension: {len(text_embeddings[0])}\")\n",
    "print(f\"First few numbers of first embedding: {text_embeddings[0][:5]}\")\n",
    "print(\"\\nNotice: Similar texts (programming languages) will have similar embeddings!\")"
   ]
  },
  {
   "cell_type": "code",
   "execution_count": null,
   "metadata": {},
   "outputs": [],
   "source": [
    "print(\"Example 4b: Vector Store for Similarity Search\")\n",
    "\n",
    "# Create a simple knowledge base\n",
    "knowledge_base = [\n",
    "    \"LangChain is a framework for building AI applications\",\n",
    "    \"Python is popular for data science and machine learning\",\n",
    "    \"Machine learning models can recognize patterns in data\",\n",
    "    \"Natural language processing helps computers understand text\",\n",
    "    \"Vectors are mathematical representations of data\"\n",
    "]\n",
    "\n",
    "# Create a vector store (this creates a local database)\n",
    "vectorstore = Chroma.from_texts(\n",
    "    knowledge_base,\n",
    "    embeddings,\n",
    "    persist_directory=\"./chroma_db\"  # Creates a local folder\n",
    ")\n",
    "\n",
    "print(\"Note: This creates a 'chroma_db' folder in your current directory.\")\n",
    "print(\"You can delete it later if you want to clean up.\\n\")\n",
    "\n",
    "# Search for similar content\n",
    "query = \"What is machine learning?\"\n",
    "similar_docs = vectorstore.similarity_search(query, k=2)\n",
    "\n",
    "print(f\"Query: {query}\")\n",
    "print(\"Most similar documents:\")\n",
    "for i, doc in enumerate(similar_docs, 1):\n",
    "    print(f\"{i}. {doc.page_content}\")"
   ]
  },
  {
   "cell_type": "markdown",
   "metadata": {},
   "source": [
    "### Try It Yourself:\n",
    "- Add your own documents to the knowledge base\n",
    "- Try different search queries\n",
    "- Create a vector store with course notes or textbook content"
   ]
  },
  {
   "cell_type": "markdown",
   "metadata": {},
   "source": [
    "---\n",
    "# CONCEPT 5: AGENTS\n",
    "\n",
    "Agents are AI systems that can decide which tools to use to solve problems. They can search the web, do calculations, access databases, and more!\n",
    "\n",
    "Think of agents as AI assistants that can actually **do things** in the real world."
   ]
  },
  {
   "cell_type": "code",
   "execution_count": null,
   "metadata": {},
   "outputs": [],
   "source": [
    "print(\"Example 5: Web Search Agent\")\n",
    "\n",
    "# Create a search tool\n",
    "search = DuckDuckGoSearchRun()\n",
    "\n",
    "# Define tools for the agent\n",
    "tools = [\n",
    "    Tool(\n",
    "        name=\"Search\",\n",
    "        func=search.run,\n",
    "        description=\"Useful for searching current information on the internet\"\n",
    "    )\n",
    "]\n",
    "\n",
    "# Create an agent\n",
    "agent = initialize_agent(\n",
    "    tools,\n",
    "    chat_model,\n",
    "    agent=AgentType.ZERO_SHOT_REACT_DESCRIPTION,\n",
    "    verbose=True  # Shows the agent's thinking process\n",
    ")\n",
    "\n",
    "print(\"Agent Task: Find current information about a topic\")\n",
    "try:\n",
    "    response = agent.run(\"What are the latest developments in renewable energy technology?\")\n",
    "    print(f\"\\nAgent Response: {response}\")\n",
    "except Exception as e:\n",
    "    print(f\"Note: Web search might be limited in some environments. Error: {e}\")\n",
    "    print(\"In a full setup, the agent would search the web and provide current information.\")"
   ]
  },
  {
   "cell_type": "markdown",
   "metadata": {},
   "source": [
    "### Try It Yourself:\n",
    "- Ask the agent different questions that require web search\n",
    "- Create agents with different tools (calculator, database access, etc.)\n",
    "- Design an agent that can help with homework questions"
   ]
  },
  {
   "cell_type": "markdown",
   "metadata": {},
   "source": [
    "---\n",
    "# TUTORIAL COMPLETE!\n",
    "\n",
    "## Summary of Concepts:\n",
    "\n",
    "### 1. **MODELS**: AI systems that understand and generate text\n",
    "- Use `OpenAI`, `ChatOpenAI` for different types of tasks\n",
    "- Temperature controls creativity (0 = focused, 1 = creative)\n",
    "\n",
    "### 2. **PROMPTS**: Instructions that guide AI behavior  \n",
    "- `PromptTemplate` for reusable prompts with variables\n",
    "- `ChatPromptTemplate` for conversation-style interactions\n",
    "\n",
    "### 3. **CHAINS**: Connect components to create workflows\n",
    "- `LLMChain` combines prompts and models\n",
    "- Sequential chains for multi-step processes\n",
    "\n",
    "### 4. **EMBEDDINGS**: Convert text to numerical representations\n",
    "- Similar texts have similar embeddings\n",
    "- Vector stores enable semantic search\n",
    "\n",
    "### 5. **AGENTS**: AI that can use tools and make decisions\n",
    "- Can search web, do calculations, access databases\n",
    "- Combine reasoning with external capabilities\n",
    "\n",
    "---\n",
    "\n",
    "## Next Steps:\n",
    "- Get an OpenAI API key from [platform.openai.com/api-keys](https://platform.openai.com/api-keys)\n",
    "- Replace \"your-api-key-here\" with your actual API key\n",
    "- Try modifying the prompts and see how outputs change\n",
    "- Experiment with different model parameters\n",
    "- Build your own simple AI application using these concepts!\n",
    "\n",
    "## Cleanup (Optional):\n",
    "- Delete the 'chroma_db' folder created during the vector store example\n",
    "- You can recreate it anytime by running that section again\n",
    "\n",
    "---\n",
    "\n",
    "## Practice Exercises:\n",
    "1. Create a prompt template for generating study notes\n",
    "2. Build a chain that summarizes text and then translates it \n",
    "3. Create a vector store with your own documents\n",
    "4. Design an agent that can help with homework questions\n",
    "\n",
    "**Happy learning!**"
   ]
  }
 ],
 "metadata": {
  "kernelspec": {
   "display_name": "Python 3",
   "language": "python",
   "name": "python3"
  },
  "language_info": {
   "codemirror_mode": {
    "name": "ipython",
    "version": 3
   },
   "file_extension": ".py",
   "mimetype": "text/x-python",
   "name": "python",
   "nbconvert_exporter": "python",
   "pygments_lexer": "ipython3",
   "version": "3.8.5"
  }
 },
 "nbformat": 4,
 "nbformat_minor": 4
}
