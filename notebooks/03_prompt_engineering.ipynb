{
 "cells": [
  {
   "cell_type": "markdown",
   "id": "d8f2db23",
   "metadata": {},
   "source": [
    "# 03 - Prompt Engineering\n",
    "## SEEDS Nexus AI Agents Academy\n",
    "\n",
    "Master the art of prompt engineering! Learn to craft effective prompts that get the best results from AI models, with a focus on environmental and sustainability applications.\n",
    "\n",
    "### Learning Objectives\n",
    "- Learn basic prompting techniques\n",
    "- Master few-shot prompting with examples\n",
    "- Understand chain of thought prompting\n",
    "- Apply techniques to environmental use cases\n",
    "- Optimize prompts for better results\n",
    "\n",
    "### Environmental Focus\n",
    "All prompts will focus on carbon footprint analysis, green energy advice, and sustainability recommendations."
   ]
  },
  {
   "cell_type": "code",
   "execution_count": null,
   "id": "f907637c",
   "metadata": {},
   "outputs": [],
   "source": [
    "# Setup Cell - Install Required Packages\n",
    "# Run this cell first in Google Colab\n",
    "\n",
    "# Check if we're in Google Colab\n",
    "try:\n",
    "    import google.colab\n",
    "    IN_COLAB = True\n",
    "    print(\"🚀 Running in Google Colab\")\n",
    "except ImportError:\n",
    "    IN_COLAB = False\n",
    "    print(\"💻 Running locally\")\n",
    "\n",
    "# Install packages if in Colab\n",
    "if IN_COLAB:\n",
    "    print(\"Installing required packages...\")\n",
    "    !pip install langchain==0.1.0 langchain-community==0.0.10 langchain-openai==0.0.5\n",
    "    !pip install openai==1.12.0 tiktoken==0.5.2 python-dotenv==1.0.0\n",
    "    !pip install pandas==2.2.0 matplotlib==3.8.2 requests==2.31.0 beautifulsoup4==4.12.3\n",
    "    print(\"✅ Packages installed successfully!\")\n",
    "\n",
    "# Import required libraries\n",
    "import os\n",
    "from dotenv import load_dotenv\n",
    "import openai\n",
    "from langchain.llms import OpenAI\n",
    "from langchain.prompts import PromptTemplate\n",
    "from langchain.chains import LLMChain\n",
    "\n",
    "# Load environment variables\n",
    "if not IN_COLAB:\n",
    "    load_dotenv()\n",
    "\n",
    "# Setup OpenAI API key\n",
    "if IN_COLAB:\n",
    "    # In Colab, get API key from user input\n",
    "    from getpass import getpass\n",
    "    api_key = getpass(\"Enter your OpenAI API key: \")\n",
    "    os.environ[\"OPENAI_API_KEY\"] = api_key\n",
    "else:\n",
    "    # Locally, use .env file\n",
    "    api_key = os.getenv(\"OPENAI_API_KEY\")\n",
    "    if not api_key:\n",
    "        print(\"⚠️ Please set OPENAI_API_KEY in your .env file\")\n",
    "        print(\"Copy .env.template to .env and add your API key\")\n",
    "\n",
    "# Verify setup\n",
    "try:\n",
    "    # Test the setup with a simple call\n",
    "    llm = OpenAI(api_key=api_key, max_tokens=50)\n",
    "    print(\"✅ OpenAI connection successful!\")\n",
    "    print(f\"🌍 Ready to learn prompt engineering for sustainability!\")\n",
    "except Exception as e:\n",
    "    print(f\"❌ Setup error: {e}\")\n",
    "    print(\"Please check your API key and try again\")"
   ]
  },
  {
   "cell_type": "markdown",
   "id": "de5c2255",
   "metadata": {},
   "source": [
    "## Basic Prompting Techniques\n",
    "*Content placeholder*"
   ]
  },
  {
   "cell_type": "code",
   "execution_count": null,
   "id": "9471e81a",
   "metadata": {},
   "outputs": [],
   "source": [
    "# Basic prompting example placeholder"
   ]
  },
  {
   "cell_type": "markdown",
   "id": "b8f73a93",
   "metadata": {},
   "source": [
    "## Few-Shot Prompting\n",
    "*Content placeholder*"
   ]
  },
  {
   "cell_type": "code",
   "execution_count": null,
   "id": "cdf5a7bc",
   "metadata": {},
   "outputs": [],
   "source": [
    "# Few-shot example placeholder"
   ]
  },
  {
   "cell_type": "markdown",
   "id": "819df981",
   "metadata": {},
   "source": [
    "## Chain of Thought Prompting\n",
    "*Content placeholder*"
   ]
  },
  {
   "cell_type": "code",
   "execution_count": null,
   "id": "f9aad193",
   "metadata": {},
   "outputs": [],
   "source": [
    "# Chain of thought example placeholder"
   ]
  },
  {
   "cell_type": "markdown",
   "id": "e4848f19",
   "metadata": {},
   "source": [
    "## Environmental Prompt Examples\n",
    "*Content placeholder*"
   ]
  },
  {
   "cell_type": "code",
   "execution_count": null,
   "id": "fb9a3cee",
   "metadata": {},
   "outputs": [],
   "source": [
    "# Environmental prompts placeholder"
   ]
  },
  {
   "cell_type": "markdown",
   "id": "603df355",
   "metadata": {},
   "source": [
    "## Prompt Optimization Exercises\n",
    "*Content placeholder*"
   ]
  },
  {
   "cell_type": "code",
   "execution_count": null,
   "id": "4e284949",
   "metadata": {},
   "outputs": [],
   "source": [
    "# Optimization exercise placeholder"
   ]
  },
  {
   "cell_type": "markdown",
   "id": "dce4fa80",
   "metadata": {},
   "source": [
    "## Your Turn: Practice Exercises\n",
    "*Content placeholder*"
   ]
  },
  {
   "cell_type": "code",
   "execution_count": null,
   "id": "41137769",
   "metadata": {},
   "outputs": [],
   "source": [
    "# Practice exercise placeholder"
   ]
  },
  {
   "cell_type": "markdown",
   "id": "fe769cce",
   "metadata": {},
   "source": [
    "## Next Steps\n",
    "Ready to build your first AI agent? Open `04_simple_agent.ipynb`!"
   ]
  }
 ],
 "metadata": {
  "language_info": {
   "name": "python"
  }
 },
 "nbformat": 4,
 "nbformat_minor": 5
}
