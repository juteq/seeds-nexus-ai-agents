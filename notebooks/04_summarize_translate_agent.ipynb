{
 "cells": [
  {
   "cell_type": "markdown",
   "id": "205ee666",
   "metadata": {},
   "source": [
    "# 04 - Summarize & Translate Agent\n",
    "## SEEDS Nexus AI Agents Academy\n",
    "\n",
    "Build your first AI agent with specialized tools! In this final notebook, you'll create a functional AI agent that can summarize environmental content and translate it into multiple languages.\n",
    "\n",
    "### Learning Objectives\n",
    "- Build custom text processing tools\n",
    "- Create a summarization tool for environmental content\n",
    "- Develop a translation tool for multiple languages\n",
    "- Combine tools into a decision-making agent\n",
    "- Test the agent with real environmental data\n",
    "\n",
    "### Environmental Focus\n",
    "Your agent will help make environmental information more accessible by summarizing complex topics and breaking down language barriers."
   ]
  },
  {
   "cell_type": "code",
   "execution_count": null,
   "id": "510ab9c3",
   "metadata": {},
   "outputs": [],
   "source": [
    "# Setup Cell - Install Required Packages\n",
    "# Run this cell first in Google Colab\n",
    "\n",
    "!pip install langchain==0.1.0\n",
    "!pip install langchain-openai==0.0.5\n",
    "!pip install langchain-community==0.0.10\n",
    "!pip install openai==1.12.0\n",
    "!pip install tiktoken==0.5.2\n",
    "!pip install python-dotenv==1.0.0"
   ]
  },
  {
   "cell_type": "markdown",
   "id": "3c1cc381",
   "metadata": {},
   "source": [
    "## Setup: API Key Configuration\n",
    "\n",
    "Before we start building our agent, we need to set up our OpenAI API key. The cell below will:\n",
    "- Check if you're running in Google Colab or locally\n",
    "- Set up your API key securely based on the environment\n",
    "- Verify the API key is properly configured"
   ]
  },
  {
   "cell_type": "code",
   "execution_count": null,
   "id": "f7a2da32",
   "metadata": {},
   "outputs": [],
   "source": [
    "import os\n",
    "import warnings\n",
    "warnings.filterwarnings('ignore')\n",
    "\n",
    "# Check if running in Colab\n",
    "try:\n",
    "    import google.colab\n",
    "    IN_COLAB = True\n",
    "    print(\"Running in Google Colab\")\n",
    "except ImportError:\n",
    "    IN_COLAB = False\n",
    "    print(\"Running locally\")\n",
    "\n",
    "# Set up OpenAI API key based on environment\n",
    "if IN_COLAB:\n",
    "    # For Google Colab: use the secure input method\n",
    "    from google.colab import userdata\n",
    "    from getpass import getpass\n",
    "\n",
    "    try:\n",
    "        # Try to get API key from Colab secrets first\n",
    "        openai_api_key = userdata.get('OPENAI_API_KEY')\n",
    "        if openai_api_key:\n",
    "            os.environ[\"OPENAI_API_KEY\"] = openai_api_key\n",
    "            print(\"✅ API key loaded from Google Colab secrets!\")\n",
    "        else:\n",
    "            # If not in secrets, prompt user to enter it\n",
    "            print(\"OpenAI API key not found in Colab secrets.\")\n",
    "            os.environ[\"OPENAI_API_KEY\"] = getpass(\"Enter your OpenAI API key: \")\n",
    "            print(\"✅ API key set from input\")\n",
    "    except Exception as e:\n",
    "        print(f\"Note: {e}\")\n",
    "        print(\"Enter your OpenAI API key below:\")\n",
    "        os.environ[\"OPENAI_API_KEY\"] = getpass(\"OpenAI API key: \")\n",
    "else:\n",
    "    # For local environment: try to load from .env file\n",
    "    try:\n",
    "        from dotenv import load_dotenv\n",
    "        load_dotenv()\n",
    "        api_key = os.getenv(\"OPENAI_API_KEY\")\n",
    "        if api_key:\n",
    "            print(\"✅ API key loaded from .env file\")\n",
    "        else:\n",
    "            print(\"⚠️ No API key found in .env file. Please add your OpenAI API key.\")\n",
    "            os.environ[\"OPENAI_API_KEY\"] = \"your-api-key-here\"\n",
    "    except ImportError:\n",
    "        print(\"⚠️ python-dotenv not installed. Please install it or add your API key manually.\")\n",
    "        os.environ[\"OPENAI_API_KEY\"] = \"your-api-key-here\"\n",
    "\n",
    "# Check if API key is properly set\n",
    "if os.environ.get(\"OPENAI_API_KEY\") in [None, \"\", \"your-api-key-here\"]:\n",
    "    print(\"⚠️ WARNING: Please set your OpenAI API key before running the examples!\")\n",
    "    print(\"Get your API key from: https://platform.openai.com/api-keys\")\n",
    "    if IN_COLAB:\n",
    "        print(\"For Colab: Use Secrets to securely store your API key\")\n",
    "        print(\"  1. Click on the 🔑 icon in the left sidebar\")\n",
    "        print(\"  2. Add a new secret with name 'OPENAI_API_KEY'\")\n",
    "        print(\"  3. Run this cell again\")\n",
    "    else:\n",
    "        print(\"For local use: Create a .env file with OPENAI_API_KEY=your-key-here\")\n",
    "else:\n",
    "    print(\"✅ API key is set! Ready to proceed.\\n\")"
   ]
  },
  {
   "cell_type": "markdown",
   "id": "f5bad1f7",
   "metadata": {},
   "source": [
    "## Step 1: Import Required Libraries\n",
    "\n",
    "First, let's import the libraries we'll need to create our agent:"
   ]
  },
  {
   "cell_type": "code",
   "execution_count": null,
   "id": "0c2b60ce",
   "metadata": {},
   "outputs": [],
   "source": [
    "# Import required libraries\n",
    "from langchain_openai import ChatOpenAI\n",
    "from langchain.agents import initialize_agent, Tool, AgentType\n",
    "from langchain.chains import LLMChain\n",
    "from langchain.prompts import PromptTemplate\n",
    "\n",
    "print(\"✅ Libraries imported successfully!\")"
   ]
  },
  {
   "cell_type": "markdown",
   "id": "bda07187",
   "metadata": {},
   "source": [
    "## Step 2: Create the Language Model\n",
    "\n",
    "We'll use OpenAI's GPT model as the brain of our agent. This will power both our summarization and translation tools."
   ]
  },
  {
   "cell_type": "code",
   "execution_count": null,
   "metadata": {},
   "outputs": [],
   "source": [
    "# Create our language model\n",
    "llm = ChatOpenAI(temperature=0, model=\"gpt-3.5-turbo\")\n",
    "print(\"✅ Language model initialized\")\n",
    "print(\"Note: We're using temperature=0 for more consistent, focused responses.\")"
   ]
  },
  {
   "cell_type": "markdown",
   "id": "178893ca",
   "metadata": {},
   "source": [
    "## Step 3: Create the Summarization Tool\n",
    "\n",
    "Let's build our first tool - a summarization tool that can condense environmental text into key bullet points. This will help make complex environmental information more digestible."
   ]
  },
  {
   "cell_type": "code",
   "execution_count": null,
   "id": "2e24fda9",
   "metadata": {},
   "outputs": [],
   "source": [
    "# Create a summarization tool\n",
    "summarize_prompt = PromptTemplate(\n",
    "    input_variables=[\"text\"],\n",
    "    template=\"\"\"\n",
    "    Summarize the following text in 3-4 concise bullet points, focusing on key environmental and sustainability aspects:\n",
    "\n",
    "    {text}\n",
    "\n",
    "    Summary:\n",
    "    \"\"\"\n",
    ")\n",
    "\n",
    "# Create a chain that will process our text\n",
    "summarize_chain = LLMChain(llm=llm, prompt=summarize_prompt)\n",
    "\n",
    "# Define a function that the agent can call\n",
    "def summarize_text(text):\n",
    "    \"\"\"Summarize environmental text into bullet points\"\"\"\n",
    "    return summarize_chain.run(text=text)\n",
    "\n",
    "print(\"✅ Summarization tool created!\")"
   ]
  },
  {
   "cell_type": "markdown",
   "id": "e2484ecf",
   "metadata": {},
   "source": [
    "## Step 4: Test the Summarization Tool\n",
    "\n",
    "Let's test our summarization tool with some environmental text to see how it works."
   ]
  },
  {
   "cell_type": "code",
   "execution_count": null,
   "id": "80d0ea09",
   "metadata": {},
   "outputs": [],
   "source": [
    "# Test sample text about renewable energy\n",
    "environmental_text = \"\"\"\n",
    "Renewable energy is transforming the global energy landscape. Solar power capacity has increased by 85% since 2010,\n",
    "while wind energy has seen a 70% growth in the same period. This transition is critical because fossil fuels account\n",
    "for approximately 75% of global greenhouse gas emissions. By switching to renewable sources, we can reduce carbon\n",
    "footprints significantly. Additionally, renewable energy projects create three times more jobs than fossil fuel\n",
    "investments. Despite this progress, challenges remain in energy storage, grid integration, and policy support.\n",
    "\"\"\"\n",
    "\n",
    "# Test our summarization tool\n",
    "summary = summarize_text(environmental_text)\n",
    "print(\"Original text length:\", len(environmental_text), \"characters\")\n",
    "print(\"\\n----- Summarized Text -----\")\n",
    "print(summary)\n",
    "print(\"Summarized text length:\", len(summary), \"characters\")"
   ]
  },
  {
   "cell_type": "markdown",
   "id": "a305e070",
   "metadata": {},
   "source": [
    "## Step 5: Create the Translation Tool\n",
    "\n",
    "Now let's build our second tool - a translation tool that can convert text into different languages. This will help make environmental information accessible to people around the world."
   ]
  },
  {
   "cell_type": "code",
   "execution_count": null,
   "id": "52467fa8",
   "metadata": {},
   "outputs": [],
   "source": [
    "# Create a translation tool\n",
    "translate_prompt = PromptTemplate(\n",
    "    input_variables=[\"text\", \"language\"],\n",
    "    template=\"\"\"\n",
    "    Translate the following text into {language}:\n",
    "\n",
    "    {text}\n",
    "\n",
    "    Translation:\n",
    "    \"\"\"\n",
    ")\n",
    "\n",
    "# Create a chain for translation\n",
    "translate_chain = LLMChain(llm=llm, prompt=translate_prompt)\n",
    "\n",
    "# Define a function that the agent can call\n",
    "def translate_text(input_str):\n",
    "    \"\"\"Translate text to another language. Format: 'text to translate | target language'\"\"\"\n",
    "    try:\n",
    "        text, language = input_str.split(\"|\")\n",
    "        text = text.strip()\n",
    "        language = language.strip()\n",
    "        return translate_chain.run(text=text, language=language)\n",
    "    except ValueError:\n",
    "        return \"Error: Please use the format 'text to translate | target language'\"\n",
    "\n",
    "print(\"✅ Translation tool created!\")"
   ]
  },
  {
   "cell_type": "markdown",
   "id": "7bd61552",
   "metadata": {},
   "source": [
    "## Step 6: Test the Translation Tool\n",
    "\n",
    "Let's test our translation tool with the summary we created earlier."
   ]
  },
  {
   "cell_type": "code",
   "execution_count": null,
   "id": "3df93f55",
   "metadata": {},
   "outputs": [],
   "source": [
    "# Test our translation tool with the summary\n",
    "# Format: \"text to translate | target language\"\n",
    "translation_input = f\"{summary} | Spanish\"\n",
    "spanish_translation = translate_text(translation_input)\n",
    "\n",
    "print(\"----- Spanish Translation -----\")\n",
    "print(spanish_translation)\n",
    "\n",
    "# Try another language\n",
    "translation_input = f\"{summary} | French\"\n",
    "french_translation = translate_text(translation_input)\n",
    "\n",
    "print(\"\\n----- French Translation -----\")\n",
    "print(french_translation)"
   ]
  },
  {
   "cell_type": "markdown",
   "id": "a2385c82",
   "metadata": {},
   "source": [
    "## Step 7: Create the Agent with Both Tools\n",
    "\n",
    "Now that we have our tools working individually, let's combine them into a single agent that can decide which tool to use based on user requests."
   ]
  },
  {
   "cell_type": "code",
   "execution_count": null,
   "id": "72dfa203",
   "metadata": {},
   "outputs": [],
   "source": [
    "# Define our tools in a format the agent can understand\n",
    "tools = [\n",
    "    Tool(\n",
    "        name=\"Summarize\",\n",
    "        func=summarize_text,\n",
    "        description=\"Useful for summarizing environmental text into bullet points. Input should be the text to summarize.\"\n",
    "    ),\n",
    "    Tool(\n",
    "        name=\"Translate\",\n",
    "        func=translate_text,\n",
    "        description=\"Useful for translating text to another language. Input should be in format: 'text to translate | target language'\"\n",
    "    )\n",
    "]\n",
    "\n",
    "# Create the agent\n",
    "agent = initialize_agent(\n",
    "    tools,\n",
    "    llm,\n",
    "    agent=AgentType.ZERO_SHOT_REACT_DESCRIPTION,\n",
    "    verbose=True  # Shows the agent's thinking process\n",
    ")\n",
    "\n",
    "print(\"✅ Agent created with both summarization and translation tools!\")"
   ]
  },
  {
   "cell_type": "markdown",
   "id": "f67799da",
   "metadata": {},
   "source": [
    "## Step 8: Test the Agent with Complex Tasks\n",
    "\n",
    "Let's test our agent with tasks that require multiple steps. We'll ask it to summarize text and then translate the summary."
   ]
  },
  {
   "cell_type": "code",
   "execution_count": null,
   "id": "c587c059",
   "metadata": {},
   "outputs": [],
   "source": [
    "print(\"==== Environmental Summarize & Translate Agent ====\")\n",
    "print(\"This agent can summarize environmental text and translate content to different languages.\")\n",
    "print(\"Let's test it with a multi-step task:\\n\")\n",
    "\n",
    "# New environmental text about climate change\n",
    "climate_text = \"\"\"\n",
    "Climate change is affecting ecosystems worldwide at an unprecedented rate. Global temperatures have risen by 1.1°C \n",
    "since pre-industrial times, with the last decade being the warmest on record. Ocean acidification has increased by \n",
    "30% since the Industrial Revolution due to CO2 absorption. Extreme weather events like hurricanes, floods, and \n",
    "wildfires have become more frequent and severe. These changes are causing mass migrations of species, with an \n",
    "estimated 1 million species at risk of extinction. However, recent international agreements have set targets to \n",
    "limit warming to 1.5°C, and over 70 countries have pledged carbon neutrality by 2050. Technological innovations in \n",
    "carbon capture, renewable energy, and sustainable agriculture offer promising solutions if implemented at scale.\n",
    "\"\"\"\n",
    "\n",
    "# Test the agent - summarize first, then translate to German\n",
    "try:\n",
    "    response = agent.run(f\"First summarize this environmental text into bullet points, then translate the summary to German: {climate_text}\")\n",
    "    print(\"\\nAgent completed the task successfully!\")\n",
    "except Exception as e:\n",
    "    print(f\"\\nAn error occurred: {e}\")\n",
    "    print(\"Try running the example again or check your API key.\")"
   ]
  },
  {
   "cell_type": "markdown",
   "id": "0789129b",
   "metadata": {},
   "source": [
    "## Step 9: Try Different Tasks\n",
    "\n",
    "Now that we've seen how the agent works, try giving it different tasks. You can:\n",
    "- Ask it to summarize different environmental texts\n",
    "- Request translations to different languages\n",
    "- Try more complex multi-step tasks\n",
    "\n",
    "Here are some examples to try:"
   ]
  },
  {
   "cell_type": "code",
   "execution_count": null,
   "id": "64f19dcc",
   "metadata": {},
   "outputs": [],
   "source": [
    "# Example 1: Just summarize\n",
    "print(\"=== Example 1: Just Summarize ===\")\n",
    "biodiversity_text = \"\"\"\n",
    "Biodiversity loss is accelerating at an alarming rate, with current extinction rates 100-1000 times higher than \n",
    "natural background rates. Habitat destruction, primarily from agriculture and urban expansion, remains the leading \n",
    "cause, affecting 85% of threatened species. Climate change is expected to become the leading driver of biodiversity \n",
    "loss by 2070 if current trends continue. Protected areas now cover 15% of land and 7% of marine environments, but \n",
    "many lack effective management. Conservation scientists advocate for protecting at least 30% of land and ocean by \n",
    "2030 to maintain ecological balance. Recent successes include the recovery of certain whale populations and the \n",
    "return of species previously thought extinct, demonstrating that targeted conservation efforts can be effective.\n",
    "\"\"\"\n",
    "\n",
    "try:\n",
    "    response = agent.run(f\"Summarize this text about biodiversity loss: {biodiversity_text}\")\n",
    "    print(\"\\nTask completed!\")\n",
    "except Exception as e:\n",
    "    print(f\"\\nAn error occurred: {e}\")"
   ]
  },
  {
   "cell_type": "code",
   "execution_count": null,
   "id": "c1fcace2",
   "metadata": {},
   "outputs": [],
   "source": [
    "# Example 2: Just translate\n",
    "print(\"=== Example 2: Just Translate ===\")\n",
    "green_energy_text = \"\"\"\n",
    "Renewable energy technologies are becoming increasingly cost-competitive with fossil fuels. Solar and wind power \n",
    "are now the cheapest forms of new electricity generation in most countries. This economic shift is accelerating \n",
    "the global energy transition.\n",
    "\"\"\"\n",
    "\n",
    "try:\n",
    "    response = agent.run(f\"Translate this text to Japanese: {green_energy_text}\")\n",
    "    print(\"\\nTask completed!\")\n",
    "except Exception as e:\n",
    "    print(f\"\\nAn error occurred: {e}\")"
   ]
  },
  {
   "cell_type": "markdown",
   "id": "6a02df6e",
   "metadata": {},
   "source": [
    "## Your Turn: Create Your Own Tasks\n",
    "\n",
    "Now it's your turn to experiment with the agent. Try creating your own environmental texts or using real-world content about sustainability topics. Ask the agent to:\n",
    "\n",
    "1. Summarize complex environmental reports\n",
    "2. Translate sustainability information to different languages\n",
    "3. Perform multi-step tasks combining summarization and translation\n",
    "\n",
    "**Challenge**: Try to create tasks that push the limits of the agent's capabilities!"
   ]
  },
  {
   "cell_type": "code",
   "execution_count": null,
   "id": "992f1454",
   "metadata": {},
   "outputs": [],
   "source": [
    "# Your code here\n",
    "# Try running: agent.run(\"Your instructions here\")\n",
    "\n",
    "# Example you can modify:\n",
    "\"\"\"\n",
    "agent.run('''\n",
    "    First summarize this text about sustainable agriculture, then translate the summary to Italian:\n",
    "    \n",
    "    Sustainable agriculture focuses on producing food while ensuring economic viability, \n",
    "    environmental stewardship, and social responsibility. Practices include crop rotation, \n",
    "    reduced tillage, precision farming, and integrated pest management. These methods help \n",
    "    preserve soil health, conserve water, reduce chemical inputs, and promote biodiversity. \n",
    "    Studies show that sustainable farms can achieve yields comparable to conventional farms \n",
    "    while using fewer resources and generating less pollution. Additionally, sustainable \n",
    "    agriculture often improves farmer livelihoods through premium pricing and reduced input costs.\n",
    "''')\n",
    "\"\"\""
   ]
  },
  {
   "cell_type": "markdown",
   "id": "9536c508",
   "metadata": {},
   "source": [
    "## Congratulations!\n",
    "\n",
    "You've successfully built and tested an AI agent with specialized tools for summarizing environmental content and translating it into multiple languages. This type of agent can be extremely useful for:\n",
    "\n",
    "- Making complex environmental information more accessible\n",
    "- Breaking down language barriers in global sustainability efforts\n",
    "- Helping researchers quickly process large volumes of text\n",
    "- Creating multilingual educational materials about climate change\n",
    "\n",
    "### Key Takeaways:\n",
    "- Custom tools give agents specialized capabilities\n",
    "- Agents can reason about which tools to use based on the task\n",
    "- Multi-step processing allows for complex workflows\n",
    "- Language models can be tailored for specific domains like environmental science\n",
    "\n",
    "### Next Steps:\n",
    "- Try creating additional tools for your agent (e.g., fact-checking, visualization)\n",
    "- Integrate real-world environmental data sources\n",
    "- Customize the tools for specific sustainability topics\n",
    "- Share your agent with others working on environmental challenges\n",
    "\n",
    "Happy coding and thank you for contributing to environmental communication!"
   ]
  }
 ],
 "metadata": {
  "language_info": {
   "name": "python"
  }
 },
 "nbformat": 4,
 "nbformat_minor": 5
}
