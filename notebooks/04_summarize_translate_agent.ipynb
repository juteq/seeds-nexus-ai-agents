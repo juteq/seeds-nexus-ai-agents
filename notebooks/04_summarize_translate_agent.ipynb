{
 "cells": [
  {
   "cell_type": "markdown",
   "id": "d41f8ad1",
   "metadata": {},
   "source": [
    "# 04 - Simple Agent\n",
    "## SEEDS Nexus AI Agents Academy\n",
    "\n",
    "Build your first AI agent! In this final notebook, you'll create a functional AI agent that can answer environmental questions and make sustainability recommendations.\n",
    "\n",
    "### Learning Objectives\n",
    "- Understand what AI agents are and how they work\n",
    "- Build a basic agent with tools\n",
    "- Create an environmental Q&A agent\n",
    "- Integrate web search capabilities\n",
    "- Apply decision-making for sustainability scenarios\n",
    "\n",
    "### Environmental Focus\n",
    "Your agent will specialize in climate change, renewable energy, and sustainability advice."
   ]
  },
  {
   "cell_type": "code",
   "execution_count": null,
   "id": "510ab9c3",
   "metadata": {},
   "outputs": [],
   "source": [
    "# Setup Cell - Install Required Packages\n",
    "# Run this cell first in Google Colab"
   ]
  },
  {
   "cell_type": "markdown",
   "id": "c3cb0d79",
   "metadata": {},
   "source": [
    "## What is an AI Agent?\n",
    "*Content placeholder*"
   ]
  },
  {
   "cell_type": "code",
   "execution_count": null,
   "id": "6e7327a4",
   "metadata": {},
   "outputs": [],
   "source": [
    "# Basic agent concept placeholder"
   ]
  },
  {
   "cell_type": "markdown",
   "id": "c309ddc2",
   "metadata": {},
   "source": [
    "## Building Your First Agent\n",
    "*Content placeholder*"
   ]
  },
  {
   "cell_type": "code",
   "execution_count": null,
   "id": "2f79add2",
   "metadata": {},
   "outputs": [],
   "source": [
    "# Agent building placeholder"
   ]
  },
  {
   "cell_type": "markdown",
   "id": "9a1b81ef",
   "metadata": {},
   "source": [
    "## Adding Tools to Your Agent\n",
    "*Content placeholder*\n",
    "Agents become powerful when we give them specialized tools to use. Let's create a multilingual environmental agent that can summarize and translate content about sustainability topics.\n",
    "\n",
    "This agent demonstrates:\n",
    "- Custom tool creation\n",
    "- Multi-step processing of information\n",
    "- Language translation capabilities"
   ]
  },
  {
   "cell_type": "code",
   "execution_count": null,
   "id": "60e80da1",
   "metadata": {},
   "outputs": [],
   "source": [
    "import os\n",
    "import warnings\n",
    "warnings.filterwarnings('ignore')\n",
    "\n",
    "# Check if running in Colab\n",
    "try:\n",
    "    import google.colab\n",
    "    IN_COLAB = True\n",
    "except ImportError:\n",
    "    IN_COLAB = False\n",
    "\n",
    "# Set up OpenAI API key based on environment\n",
    "if IN_COLAB:\n",
    "    # For Google Colab: use the secure input method\n",
    "    from google.colab import userdata\n",
    "    from getpass import getpass\n",
    "\n",
    "    try:\n",
    "        # Try to get API key from Colab secrets first\n",
    "        openai_api_key = userdata.get('OPENAI_API_KEY')\n",
    "        if openai_api_key:\n",
    "            os.environ[\"OPENAI_API_KEY\"] = openai_api_key\n",
    "            print(\"✅ API key loaded from Google Colab secrets!\")\n",
    "        else:\n",
    "            # If not in secrets, prompt user to enter it\n",
    "            print(\"OpenAI API key not found in Colab secrets.\")\n",
    "            os.environ[\"OPENAI_API_KEY\"] = getpass(\"Enter your OpenAI API key: \")\n",
    "            print(\"✅ API key set from input\")\n",
    "    except Exception as e:\n",
    "        print(f\"Note: {e}\")\n",
    "        print(\"Enter your OpenAI API key below:\")\n",
    "        os.environ[\"OPENAI_API_KEY\"] = getpass(\"OpenAI API key: \")\n",
    "else:\n",
    "    # For local environment: try to load from .env file\n",
    "    try:\n",
    "        from dotenv import load_dotenv\n",
    "        load_dotenv()\n",
    "        api_key = os.getenv(\"OPENAI_API_KEY\")\n",
    "        if api_key:\n",
    "            print(\"✅ API key loaded from .env file\")\n",
    "        else:\n",
    "            print(\"⚠️ No API key found in .env file. Please add your OpenAI API key.\")\n",
    "            os.environ[\"OPENAI_API_KEY\"] = \"your-api-key-here\"\n",
    "    except ImportError:\n",
    "        print(\"⚠️ python-dotenv not installed. Please install it or add your API key manually.\")\n",
    "        os.environ[\"OPENAI_API_KEY\"] = \"your-api-key-here\"\n",
    "\n",
    "# Import required libraries\n",
    "from langchain_openai import ChatOpenAI\n",
    "from langchain.agents import initialize_agent, Tool, AgentType\n",
    "from langchain.chains import LLMChain\n",
    "from langchain.prompts import PromptTemplate\n",
    "\n",
    "# Create our language model\n",
    "llm = ChatOpenAI(temperature=0, model=\"gpt-3.5-turbo\")\n",
    "\n",
    "# Create a summarization tool\n",
    "summarize_prompt = PromptTemplate(\n",
    "    input_variables=[\"text\"],\n",
    "    template=\"\"\"\n",
    "    Summarize the following text in 3-4 concise bullet points, focusing on key environmental and sustainability aspects:\n",
    "\n",
    "    {text}\n",
    "\n",
    "    Summary:\n",
    "    \"\"\"\n",
    ")\n",
    "summarize_chain = LLMChain(llm=llm, prompt=summarize_prompt)\n",
    "\n",
    "def summarize_text(text):\n",
    "    \"\"\"Summarize environmental text into bullet points\"\"\"\n",
    "    return summarize_chain.run(text=text)\n",
    "\n",
    "# Create a translation tool\n",
    "translate_prompt = PromptTemplate(\n",
    "    input_variables=[\"text\", \"language\"],\n",
    "    template=\"\"\"\n",
    "    Translate the following text into {language}:\n",
    "\n",
    "    {text}\n",
    "\n",
    "    Translation:\n",
    "    \"\"\"\n",
    ")\n",
    "translate_chain = LLMChain(llm=llm, prompt=translate_prompt)\n",
    "\n",
    "def translate_text(input_str):\n",
    "    \"\"\"Translate text to another language. Format: 'text to translate | target language'\"\"\"\n",
    "    try:\n",
    "        text, language = input_str.split(\"|\")\n",
    "        text = text.strip()\n",
    "        language = language.strip()\n",
    "        return translate_chain.run(text=text, language=language)\n",
    "    except ValueError:\n",
    "        return \"Error: Please use the format 'text to translate | target language'\"\n",
    "\n",
    "# Define our tools\n",
    "tools = [\n",
    "    Tool(\n",
    "        name=\"Summarize\",\n",
    "        func=summarize_text,\n",
    "        description=\"Useful for summarizing environmental text into bullet points. Input should be the text to summarize.\"\n",
    "    ),\n",
    "    Tool(\n",
    "        name=\"Translate\",\n",
    "        func=translate_text,\n",
    "        description=\"Useful for translating text to another language. Input should be in format: 'text to translate | target language'\"\n",
    "    )\n",
    "]\n",
    "\n",
    "# Create the agent\n",
    "agent = initialize_agent(\n",
    "    tools,\n",
    "    llm,\n",
    "    agent=AgentType.ZERO_SHOT_REACT_DESCRIPTION,\n",
    "    verbose=True  # Shows the agent's thinking process\n",
    ")\n",
    "\n",
    "print(\"==== Environmental Summarize & Translate Agent ====\")\n",
    "print(\"This agent can summarize environmental text and translate content to different languages.\")\n",
    "print(\"Example task: 'Summarize and translate to Spanish the following text about renewable energy: [text]'\")\n",
    "\n",
    "# Test the agent\n",
    "environmental_text = \"\"\"\n",
    "Renewable energy is transforming the global energy landscape. Solar power capacity has increased by 85% since 2010,\n",
    "while wind energy has seen a 70% growth in the same period. This transition is critical because fossil fuels account\n",
    "for approximately 75% of global greenhouse gas emissions. By switching to renewable sources, we can reduce carbon\n",
    "footprints significantly. Additionally, renewable energy projects create three times more jobs than fossil fuel\n",
    "investments. Despite this progress, challenges remain in energy storage, grid integration, and policy support.\n",
    "\"\"\"\n",
    "\n",
    "try:\n",
    "    response = agent.run(f\"First summarize this environmental text into bullet points, then translate the summary to French: {environmental_text}\")\n",
    "    print(\"\\nAgent completed the task successfully!\")\n",
    "except Exception as e:\n",
    "    print(f\"\\nAn error occurred: {e}\")\n",
    "    print(\"Try running the example again or check your API key.\")"
   ]
  },
  {
   "cell_type": "markdown",
   "id": "241fc259",
   "metadata": {},
   "source": [
    "## Environmental Q&A Agent\n",
    "*Content placeholder*"
   ]
  },
  {
   "cell_type": "code",
   "execution_count": null,
   "id": "c75ee66a",
   "metadata": {},
   "outputs": [],
   "source": [
    "# Environmental agent placeholder"
   ]
  },
  {
   "cell_type": "markdown",
   "id": "2a762a9c",
   "metadata": {},
   "source": [
    "## Web Search Integration\n",
    "*Content placeholder*"
   ]
  },
  {
   "cell_type": "code",
   "execution_count": null,
   "id": "dce04ddf",
   "metadata": {},
   "outputs": [],
   "source": [
    "# Web search tool placeholder"
   ]
  },
  {
   "cell_type": "markdown",
   "id": "abc92ebd",
   "metadata": {},
   "source": [
    "## Decision-Making for Sustainability\n",
    "*Content placeholder*"
   ]
  },
  {
   "cell_type": "code",
   "execution_count": null,
   "id": "060c3f9a",
   "metadata": {},
   "outputs": [],
   "source": [
    "# Decision-making example placeholder"
   ]
  },
  {
   "cell_type": "markdown",
   "id": "a1d8aa62",
   "metadata": {},
   "source": [
    "## Your Turn: Enhance Your Agent\n",
    "*Content placeholder*"
   ]
  },
  {
   "cell_type": "code",
   "execution_count": null,
   "id": "bdeda715",
   "metadata": {},
   "outputs": [],
   "source": [
    "# Enhancement exercise placeholder"
   ]
  },
  {
   "cell_type": "markdown",
   "id": "3a70dee6",
   "metadata": {},
   "source": [
    "## Congratulations!\n",
    "You've completed the SEEDS Nexus AI Agents Academy! You now have the foundational skills to build AI agents for environmental and sustainability applications.\n",
    "\n",
    "### What's Next?\n",
    "- Experiment with more complex agents\n",
    "- Explore additional LangChain tools\n",
    "- Apply your skills to real environmental challenges\n",
    "- Share your creations with the community!"
   ]
  }
 ],
 "metadata": {
  "language_info": {
   "name": "python"
  }
 },
 "nbformat": 4,
 "nbformat_minor": 5
}
